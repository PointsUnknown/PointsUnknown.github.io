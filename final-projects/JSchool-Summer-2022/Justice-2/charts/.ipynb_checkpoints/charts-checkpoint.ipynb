{
 "cells": [
  {
   "cell_type": "markdown",
   "id": "fb7136cc",
   "metadata": {},
   "source": [
    "# Charts for NYC Delivery Cyclists project\n",
    "Data source: [Los Deliveristas Unidos' report](https://img1.wsimg.com/blobby/go/6c0bc951-f473-4720-be3e-797bd8c26b8e/09142021CHARTSLos%20Deliveristas%20Unidos-v02.pdf)"
   ]
  },
  {
   "cell_type": "code",
   "execution_count": 1,
   "id": "59a89c2b",
   "metadata": {},
   "outputs": [
    {
     "name": "stderr",
     "output_type": "stream",
     "text": [
      "/Users/ilenapeng/.pyenv/versions/3.9.7/lib/python3.9/site-packages/pandas/compat/__init__.py:124: UserWarning: Could not import the lzma module. Your installed Python is incomplete. Attempting to use lzma compression will result in a RuntimeError.\n",
      "  warnings.warn(msg)\n"
     ]
    }
   ],
   "source": [
    "import pandas as pd\n",
    "import altair as alt"
   ]
  },
  {
   "cell_type": "markdown",
   "id": "2ff96441",
   "metadata": {},
   "source": [
    "## Configure theme\n",
    "From https://towardsdatascience.com/consistently-beautiful-visualizations-with-altair-themes-c7f9f889602"
   ]
  },
  {
   "cell_type": "code",
   "execution_count": 2,
   "id": "7c6c21b4",
   "metadata": {},
   "outputs": [],
   "source": [
    "def my_theme():\n",
    "    # Typography\n",
    "    font = \"Lato\"\n",
    "    labelFont = \"Lato\" \n",
    "    sourceFont = \"Lato\"\n",
    "    # Axes\n",
    "    axisColor = \"#000000\"\n",
    "    gridColor = \"#DEDDDD\"\n",
    "    # Colors\n",
    "    main_palette = [ \n",
    "                    \"#1D3D86\", \n",
    "                    \"#D37D1B\",\n",
    "#                     \"#d8dbe2ff\",\n",
    "#                     \"#373f51ff\", \n",
    "#                     \"#1b1b1eff\"\n",
    "                   ]\n",
    "#     sequential_palette = []\n",
    "    return {\n",
    "            \"config\": {\n",
    "                \"title\": {\n",
    "                    \"fontSize\": 20,\n",
    "                    \"font\": font,\n",
    "                    \"anchor\": \"start\", # equivalent of left-aligned.\n",
    "                    \"fontColor\": \"#000000\"\n",
    "                },\n",
    "                \"axisX\": {\n",
    "                    \"domain\": True,\n",
    "                    \"domainColor\": axisColor,\n",
    "                    \"domainWidth\": 1,\n",
    "                    \"grid\": False,\n",
    "                    \"labelFont\": labelFont,\n",
    "                    \"labelFontSize\": 16,\n",
    "                    \"labelAngle\": 0, \n",
    "                    \"tickColor\": axisColor,\n",
    "                    \"tickSize\": 5,\n",
    "                    \"titleFont\": font,\n",
    "                    \"titleFontSize\": 16,\n",
    "                    \"titlePadding\": 10,\n",
    "                    \"title\": \"X Axis Title (units)\", \n",
    "                },\n",
    "                \"axisY\": {\n",
    "                    \"domain\": False,\n",
    "                    \"grid\": False,\n",
    "                    \"gridColor\": gridColor,\n",
    "                    \"gridWidth\": 1,\n",
    "                    \"labelFont\": labelFont,\n",
    "                    \"labelFontSize\": 16,\n",
    "                    \"labelAngle\": 0, \n",
    "                    \"ticks\": False,\n",
    "                    \"titleFont\": font,\n",
    "                    \"titleFontSize\": 16,\n",
    "                    \"titlePadding\": 10,\n",
    "                    \"title\": \"Y Axis Title (units)\", \n",
    "                    # titles are by default vertical left of axis so we need to hack this \n",
    "                    \"titleAngle\": 0, # horizontal\n",
    "                    \"titleY\": -10, # move it up\n",
    "                    \"titleX\": 18, # move it to the right so it aligns with the labels \n",
    "                },\n",
    "                \"range\": {\n",
    "                    \"category\": main_palette,\n",
    "#                     \"diverging\": sequential_palette,\n",
    "                }\n",
    "    }\n",
    "        }"
   ]
  },
  {
   "cell_type": "code",
   "execution_count": 3,
   "id": "6deac335",
   "metadata": {},
   "outputs": [
    {
     "data": {
      "text/plain": [
       "ThemeRegistry.enable('my_theme')"
      ]
     },
     "execution_count": 3,
     "metadata": {},
     "output_type": "execute_result"
    }
   ],
   "source": [
    "alt.themes.register(\"my_theme\", my_theme)\n",
    "alt.themes.enable(\"my_theme\")"
   ]
  },
  {
   "cell_type": "markdown",
   "id": "fd6cadad",
   "metadata": {},
   "source": [
    "## Where people order from"
   ]
  },
  {
   "cell_type": "code",
   "execution_count": 4,
   "id": "b15cebcc",
   "metadata": {},
   "outputs": [
    {
     "data": {
      "text/html": [
       "<div>\n",
       "<style scoped>\n",
       "    .dataframe tbody tr th:only-of-type {\n",
       "        vertical-align: middle;\n",
       "    }\n",
       "\n",
       "    .dataframe tbody tr th {\n",
       "        vertical-align: top;\n",
       "    }\n",
       "\n",
       "    .dataframe thead th {\n",
       "        text-align: right;\n",
       "    }\n",
       "</style>\n",
       "<table border=\"1\" class=\"dataframe\">\n",
       "  <thead>\n",
       "    <tr style=\"text-align: right;\">\n",
       "      <th></th>\n",
       "      <th>order_source</th>\n",
       "      <th>count</th>\n",
       "      <th>percent</th>\n",
       "      <th>label</th>\n",
       "    </tr>\n",
       "  </thead>\n",
       "  <tbody>\n",
       "    <tr>\n",
       "      <th>0</th>\n",
       "      <td>Fast food chains</td>\n",
       "      <td>1342</td>\n",
       "      <td>76.905444</td>\n",
       "      <td>[Fast food chains]</td>\n",
       "    </tr>\n",
       "    <tr>\n",
       "      <th>1</th>\n",
       "      <td>Restaurants</td>\n",
       "      <td>324</td>\n",
       "      <td>18.567335</td>\n",
       "      <td>[Restaurants]</td>\n",
       "    </tr>\n",
       "    <tr>\n",
       "      <th>2</th>\n",
       "      <td>Other (including grocery stores &amp; pharmacies)</td>\n",
       "      <td>79</td>\n",
       "      <td>4.527221</td>\n",
       "      <td>[Other (including grocery, stores &amp; pharmacies)]</td>\n",
       "    </tr>\n",
       "  </tbody>\n",
       "</table>\n",
       "</div>"
      ],
      "text/plain": [
       "                                    order_source  count    percent  \\\n",
       "0                               Fast food chains   1342  76.905444   \n",
       "1                                    Restaurants    324  18.567335   \n",
       "2  Other (including grocery stores & pharmacies)     79   4.527221   \n",
       "\n",
       "                                              label  \n",
       "0                                [Fast food chains]  \n",
       "1                                     [Restaurants]  \n",
       "2  [Other (including grocery, stores & pharmacies)]  "
      ]
     },
     "execution_count": 4,
     "metadata": {},
     "output_type": "execute_result"
    }
   ],
   "source": [
    "df_order_source = pd.read_csv('data/order-source.csv')\n",
    "\n",
    "from textwrap import wrap\n",
    "df_order_source['label'] = df_order_source['order_source'].apply(wrap, args=[30])\n",
    "\n",
    "df_order_source.head()"
   ]
  },
  {
   "cell_type": "code",
   "execution_count": 5,
   "id": "97ac7af7",
   "metadata": {},
   "outputs": [
    {
     "data": {
      "text/html": [
       "\n",
       "<div id=\"altair-viz-be1a05dec5bd4a77895d19155d7dcf6f\"></div>\n",
       "<script type=\"text/javascript\">\n",
       "  var VEGA_DEBUG = (typeof VEGA_DEBUG == \"undefined\") ? {} : VEGA_DEBUG;\n",
       "  (function(spec, embedOpt){\n",
       "    let outputDiv = document.currentScript.previousElementSibling;\n",
       "    if (outputDiv.id !== \"altair-viz-be1a05dec5bd4a77895d19155d7dcf6f\") {\n",
       "      outputDiv = document.getElementById(\"altair-viz-be1a05dec5bd4a77895d19155d7dcf6f\");\n",
       "    }\n",
       "    const paths = {\n",
       "      \"vega\": \"https://cdn.jsdelivr.net/npm//vega@5?noext\",\n",
       "      \"vega-lib\": \"https://cdn.jsdelivr.net/npm//vega-lib?noext\",\n",
       "      \"vega-lite\": \"https://cdn.jsdelivr.net/npm//vega-lite@4.17.0?noext\",\n",
       "      \"vega-embed\": \"https://cdn.jsdelivr.net/npm//vega-embed@6?noext\",\n",
       "    };\n",
       "\n",
       "    function maybeLoadScript(lib, version) {\n",
       "      var key = `${lib.replace(\"-\", \"\")}_version`;\n",
       "      return (VEGA_DEBUG[key] == version) ?\n",
       "        Promise.resolve(paths[lib]) :\n",
       "        new Promise(function(resolve, reject) {\n",
       "          var s = document.createElement('script');\n",
       "          document.getElementsByTagName(\"head\")[0].appendChild(s);\n",
       "          s.async = true;\n",
       "          s.onload = () => {\n",
       "            VEGA_DEBUG[key] = version;\n",
       "            return resolve(paths[lib]);\n",
       "          };\n",
       "          s.onerror = () => reject(`Error loading script: ${paths[lib]}`);\n",
       "          s.src = paths[lib];\n",
       "        });\n",
       "    }\n",
       "\n",
       "    function showError(err) {\n",
       "      outputDiv.innerHTML = `<div class=\"error\" style=\"color:red;\">${err}</div>`;\n",
       "      throw err;\n",
       "    }\n",
       "\n",
       "    function displayChart(vegaEmbed) {\n",
       "      vegaEmbed(outputDiv, spec, embedOpt)\n",
       "        .catch(err => showError(`Javascript Error: ${err.message}<br>This usually means there's a typo in your chart specification. See the javascript console for the full traceback.`));\n",
       "    }\n",
       "\n",
       "    if(typeof define === \"function\" && define.amd) {\n",
       "      requirejs.config({paths});\n",
       "      require([\"vega-embed\"], displayChart, err => showError(`Error loading script: ${err.message}`));\n",
       "    } else {\n",
       "      maybeLoadScript(\"vega\", \"5\")\n",
       "        .then(() => maybeLoadScript(\"vega-lite\", \"4.17.0\"))\n",
       "        .then(() => maybeLoadScript(\"vega-embed\", \"6\"))\n",
       "        .catch(showError)\n",
       "        .then(() => displayChart(vegaEmbed));\n",
       "    }\n",
       "  })({\"config\": {\"title\": {\"fontSize\": 20, \"font\": \"Lato\", \"anchor\": \"start\", \"fontColor\": \"#000000\"}, \"axisX\": {\"domain\": true, \"domainColor\": \"#000000\", \"domainWidth\": 1, \"grid\": false, \"labelFont\": \"Lato\", \"labelFontSize\": 16, \"labelAngle\": 0, \"tickColor\": \"#000000\", \"tickSize\": 5, \"titleFont\": \"Lato\", \"titleFontSize\": 16, \"titlePadding\": 10, \"title\": \"X Axis Title (units)\"}, \"axisY\": {\"domain\": false, \"grid\": false, \"gridColor\": \"#DEDDDD\", \"gridWidth\": 1, \"labelFont\": \"Lato\", \"labelFontSize\": 16, \"labelAngle\": 0, \"ticks\": false, \"titleFont\": \"Lato\", \"titleFontSize\": 16, \"titlePadding\": 10, \"title\": \"Y Axis Title (units)\", \"titleAngle\": 0, \"titleY\": -10, \"titleX\": 18}, \"range\": {\"category\": [\"#2D7E8B\", \"#D37D1B\"]}, \"view\": {\"strokeOpacity\": 0}}, \"layer\": [{\"mark\": \"bar\", \"encoding\": {\"color\": {\"value\": \"#D37D1B\"}, \"x\": {\"field\": \"count\", \"type\": \"quantitative\"}, \"y\": {\"axis\": {\"labelLimit\": 200, \"offset\": 10}, \"field\": \"label\", \"sort\": \"-x\", \"type\": \"ordinal\"}}}, {\"mark\": {\"type\": \"text\", \"align\": \"left\", \"baseline\": \"middle\", \"dx\": 3, \"font\": \"Lato\", \"size\": 16}, \"encoding\": {\"color\": {\"value\": \"black\"}, \"text\": {\"field\": \"count\", \"format\": \",\", \"type\": \"quantitative\"}, \"x\": {\"field\": \"count\", \"type\": \"quantitative\"}, \"y\": {\"axis\": {\"labelLimit\": 200, \"offset\": 10}, \"field\": \"label\", \"sort\": \"-x\", \"type\": \"ordinal\"}}}], \"data\": {\"name\": \"data-ee2024aa66a015e49ef8410290734383\"}, \"height\": 100, \"title\": \"Where people order from\", \"width\": 600, \"$schema\": \"https://vega.github.io/schema/vega-lite/v4.17.0.json\", \"datasets\": {\"data-ee2024aa66a015e49ef8410290734383\": [{\"order_source\": \"Fast food chains\", \"count\": 1342, \"percent\": 76.90544413, \"label\": [\"Fast food chains\"]}, {\"order_source\": \"Restaurants\", \"count\": 324, \"percent\": 18.56733524, \"label\": [\"Restaurants\"]}, {\"order_source\": \"Other (including grocery stores & pharmacies)\", \"count\": 79, \"percent\": 4.52722063, \"label\": [\"Other (including grocery\", \"stores & pharmacies)\"]}]}}, {\"mode\": \"vega-lite\"});\n",
       "</script>"
      ],
      "text/plain": [
       "alt.LayerChart(...)"
      ]
     },
     "execution_count": 5,
     "metadata": {},
     "output_type": "execute_result"
    }
   ],
   "source": [
    "bars = alt.Chart(df_order_source).mark_bar().encode(\n",
    "    x='count:Q',\n",
    "    y=alt.Y(\"label:O\", sort='-x', axis=alt.Axis(labelLimit=200, offset=10)),\n",
    "    color=alt.value('#D37D1B')\n",
    ")\n",
    "\n",
    "text = bars.mark_text(\n",
    "    align='left',\n",
    "    baseline='middle',\n",
    "    dx=3,  # Nudges text to right so it doesn't appear on top of the bar\n",
    "    size=16,\n",
    "    font='Lato',\n",
    ").encode(\n",
    "    text=alt.Text('count:Q', format=','),\n",
    "    color=alt.value('black')\n",
    ")\n",
    "\n",
    "(bars + text).properties(height=100, width=600, title='Where people order from').configure_view(strokeOpacity=0)"
   ]
  },
  {
   "cell_type": "markdown",
   "id": "4935a5d9",
   "metadata": {},
   "source": [
    "## Time it takes to get an order"
   ]
  },
  {
   "cell_type": "code",
   "execution_count": 6,
   "id": "cd2eab4b",
   "metadata": {
    "scrolled": true
   },
   "outputs": [
    {
     "data": {
      "text/html": [
       "<div>\n",
       "<style scoped>\n",
       "    .dataframe tbody tr th:only-of-type {\n",
       "        vertical-align: middle;\n",
       "    }\n",
       "\n",
       "    .dataframe tbody tr th {\n",
       "        vertical-align: top;\n",
       "    }\n",
       "\n",
       "    .dataframe thead th {\n",
       "        text-align: right;\n",
       "    }\n",
       "</style>\n",
       "<table border=\"1\" class=\"dataframe\">\n",
       "  <thead>\n",
       "    <tr style=\"text-align: right;\">\n",
       "      <th></th>\n",
       "      <th>time</th>\n",
       "      <th>count</th>\n",
       "      <th>percent</th>\n",
       "    </tr>\n",
       "  </thead>\n",
       "  <tbody>\n",
       "    <tr>\n",
       "      <th>0</th>\n",
       "      <td>&lt;15 minutes</td>\n",
       "      <td>133</td>\n",
       "      <td>29.230769</td>\n",
       "    </tr>\n",
       "    <tr>\n",
       "      <th>1</th>\n",
       "      <td>15 - 30 minutes</td>\n",
       "      <td>224</td>\n",
       "      <td>49.230769</td>\n",
       "    </tr>\n",
       "    <tr>\n",
       "      <th>2</th>\n",
       "      <td>30 minutes - 1 hour</td>\n",
       "      <td>82</td>\n",
       "      <td>18.021978</td>\n",
       "    </tr>\n",
       "    <tr>\n",
       "      <th>3</th>\n",
       "      <td>1 hour - 1.5 hours</td>\n",
       "      <td>14</td>\n",
       "      <td>3.076923</td>\n",
       "    </tr>\n",
       "    <tr>\n",
       "      <th>4</th>\n",
       "      <td>&gt;1.5 hours</td>\n",
       "      <td>2</td>\n",
       "      <td>0.439560</td>\n",
       "    </tr>\n",
       "  </tbody>\n",
       "</table>\n",
       "</div>"
      ],
      "text/plain": [
       "                  time  count    percent\n",
       "0          <15 minutes    133  29.230769\n",
       "1      15 - 30 minutes    224  49.230769\n",
       "2  30 minutes - 1 hour     82  18.021978\n",
       "3   1 hour - 1.5 hours     14   3.076923\n",
       "4           >1.5 hours      2   0.439560"
      ]
     },
     "execution_count": 6,
     "metadata": {},
     "output_type": "execute_result"
    }
   ],
   "source": [
    "df_order_wait = pd.read_csv('data/order-wait.csv')\n",
    "df_order_wait.head()"
   ]
  },
  {
   "cell_type": "code",
   "execution_count": 7,
   "id": "17e86357",
   "metadata": {},
   "outputs": [
    {
     "data": {
      "text/html": [
       "\n",
       "<div id=\"altair-viz-730f1ffa04e2401a8677567ccc15fb5c\"></div>\n",
       "<script type=\"text/javascript\">\n",
       "  var VEGA_DEBUG = (typeof VEGA_DEBUG == \"undefined\") ? {} : VEGA_DEBUG;\n",
       "  (function(spec, embedOpt){\n",
       "    let outputDiv = document.currentScript.previousElementSibling;\n",
       "    if (outputDiv.id !== \"altair-viz-730f1ffa04e2401a8677567ccc15fb5c\") {\n",
       "      outputDiv = document.getElementById(\"altair-viz-730f1ffa04e2401a8677567ccc15fb5c\");\n",
       "    }\n",
       "    const paths = {\n",
       "      \"vega\": \"https://cdn.jsdelivr.net/npm//vega@5?noext\",\n",
       "      \"vega-lib\": \"https://cdn.jsdelivr.net/npm//vega-lib?noext\",\n",
       "      \"vega-lite\": \"https://cdn.jsdelivr.net/npm//vega-lite@4.17.0?noext\",\n",
       "      \"vega-embed\": \"https://cdn.jsdelivr.net/npm//vega-embed@6?noext\",\n",
       "    };\n",
       "\n",
       "    function maybeLoadScript(lib, version) {\n",
       "      var key = `${lib.replace(\"-\", \"\")}_version`;\n",
       "      return (VEGA_DEBUG[key] == version) ?\n",
       "        Promise.resolve(paths[lib]) :\n",
       "        new Promise(function(resolve, reject) {\n",
       "          var s = document.createElement('script');\n",
       "          document.getElementsByTagName(\"head\")[0].appendChild(s);\n",
       "          s.async = true;\n",
       "          s.onload = () => {\n",
       "            VEGA_DEBUG[key] = version;\n",
       "            return resolve(paths[lib]);\n",
       "          };\n",
       "          s.onerror = () => reject(`Error loading script: ${paths[lib]}`);\n",
       "          s.src = paths[lib];\n",
       "        });\n",
       "    }\n",
       "\n",
       "    function showError(err) {\n",
       "      outputDiv.innerHTML = `<div class=\"error\" style=\"color:red;\">${err}</div>`;\n",
       "      throw err;\n",
       "    }\n",
       "\n",
       "    function displayChart(vegaEmbed) {\n",
       "      vegaEmbed(outputDiv, spec, embedOpt)\n",
       "        .catch(err => showError(`Javascript Error: ${err.message}<br>This usually means there's a typo in your chart specification. See the javascript console for the full traceback.`));\n",
       "    }\n",
       "\n",
       "    if(typeof define === \"function\" && define.amd) {\n",
       "      requirejs.config({paths});\n",
       "      require([\"vega-embed\"], displayChart, err => showError(`Error loading script: ${err.message}`));\n",
       "    } else {\n",
       "      maybeLoadScript(\"vega\", \"5\")\n",
       "        .then(() => maybeLoadScript(\"vega-lite\", \"4.17.0\"))\n",
       "        .then(() => maybeLoadScript(\"vega-embed\", \"6\"))\n",
       "        .catch(showError)\n",
       "        .then(() => displayChart(vegaEmbed));\n",
       "    }\n",
       "  })({\"config\": {\"title\": {\"fontSize\": 20, \"font\": \"Lato\", \"anchor\": \"start\", \"fontColor\": \"#000000\"}, \"axisX\": {\"domain\": true, \"domainColor\": \"#000000\", \"domainWidth\": 1, \"grid\": false, \"labelFont\": \"Lato\", \"labelFontSize\": 16, \"labelAngle\": 0, \"tickColor\": \"#000000\", \"tickSize\": 5, \"titleFont\": \"Lato\", \"titleFontSize\": 16, \"titlePadding\": 10, \"title\": \"X Axis Title (units)\"}, \"axisY\": {\"domain\": false, \"grid\": false, \"gridColor\": \"#DEDDDD\", \"gridWidth\": 1, \"labelFont\": \"Lato\", \"labelFontSize\": 16, \"labelAngle\": 0, \"ticks\": false, \"titleFont\": \"Lato\", \"titleFontSize\": 16, \"titlePadding\": 10, \"title\": \"Y Axis Title (units)\", \"titleAngle\": 0, \"titleY\": -10, \"titleX\": 18}, \"range\": {\"category\": [\"#2D7E8B\", \"#D37D1B\"]}, \"view\": {\"strokeOpacity\": 0}}, \"layer\": [{\"mark\": \"bar\", \"encoding\": {\"color\": {\"value\": \"#D37D1B\"}, \"x\": {\"field\": \"count\", \"type\": \"quantitative\"}, \"y\": {\"axis\": {\"labelLimit\": 200, \"offset\": 10}, \"field\": \"time\", \"sort\": null, \"type\": \"ordinal\"}}}, {\"mark\": {\"type\": \"text\", \"align\": \"left\", \"baseline\": \"middle\", \"dx\": 5, \"font\": \"Lato\", \"size\": 16}, \"encoding\": {\"color\": {\"value\": \"black\"}, \"text\": {\"field\": \"count\", \"type\": \"quantitative\"}, \"x\": {\"field\": \"count\", \"type\": \"quantitative\"}, \"y\": {\"axis\": {\"labelLimit\": 200, \"offset\": 10}, \"field\": \"time\", \"sort\": null, \"type\": \"ordinal\"}}}], \"data\": {\"name\": \"data-518ac75825a78131a72536e9cf8760c6\"}, \"height\": 150, \"title\": \"Typical time that workers wait for orders\", \"width\": 600, \"$schema\": \"https://vega.github.io/schema/vega-lite/v4.17.0.json\", \"datasets\": {\"data-518ac75825a78131a72536e9cf8760c6\": [{\"time\": \"<15 minutes\", \"count\": 133, \"percent\": 29.23076923}, {\"time\": \"15 - 30 minutes\", \"count\": 224, \"percent\": 49.23076923}, {\"time\": \"30 minutes - 1 hour\", \"count\": 82, \"percent\": 18.02197802}, {\"time\": \"1 hour - 1.5 hours\", \"count\": 14, \"percent\": 3.076923077}, {\"time\": \">1.5 hours\", \"count\": 2, \"percent\": 0.4395604396}]}}, {\"mode\": \"vega-lite\"});\n",
       "</script>"
      ],
      "text/plain": [
       "alt.LayerChart(...)"
      ]
     },
     "execution_count": 7,
     "metadata": {},
     "output_type": "execute_result"
    }
   ],
   "source": [
    "bars = alt.Chart(df_order_wait).mark_bar().encode(\n",
    "    x='count:Q',\n",
    "    y=alt.Y(\"time:O\", sort=None, axis=alt.Axis(labelLimit=200, offset=10)),\n",
    "    color=alt.value('#D37D1B')\n",
    ")\n",
    "\n",
    "text = bars.mark_text(\n",
    "    align='left',\n",
    "    baseline='middle',\n",
    "    dx=5,\n",
    "    size=16,\n",
    "    font='Lato',\n",
    ").encode(\n",
    "    text='count:Q',\n",
    "    color=alt.value('black')\n",
    ")\n",
    "\n",
    "(bars + text).properties(height=150, width=600, title='Typical time that workers wait for orders').configure_view(strokeOpacity=0)"
   ]
  },
  {
   "cell_type": "markdown",
   "id": "155a514c",
   "metadata": {},
   "source": [
    "## Time it takes to deliver an order"
   ]
  },
  {
   "cell_type": "code",
   "execution_count": 8,
   "id": "5862363a",
   "metadata": {
    "scrolled": true
   },
   "outputs": [
    {
     "data": {
      "text/html": [
       "<div>\n",
       "<style scoped>\n",
       "    .dataframe tbody tr th:only-of-type {\n",
       "        vertical-align: middle;\n",
       "    }\n",
       "\n",
       "    .dataframe tbody tr th {\n",
       "        vertical-align: top;\n",
       "    }\n",
       "\n",
       "    .dataframe thead th {\n",
       "        text-align: right;\n",
       "    }\n",
       "</style>\n",
       "<table border=\"1\" class=\"dataframe\">\n",
       "  <thead>\n",
       "    <tr style=\"text-align: right;\">\n",
       "      <th></th>\n",
       "      <th>time</th>\n",
       "      <th>count</th>\n",
       "      <th>percent</th>\n",
       "    </tr>\n",
       "  </thead>\n",
       "  <tbody>\n",
       "    <tr>\n",
       "      <th>0</th>\n",
       "      <td>&lt;15 minutes</td>\n",
       "      <td>122</td>\n",
       "      <td>19.677419</td>\n",
       "    </tr>\n",
       "    <tr>\n",
       "      <th>1</th>\n",
       "      <td>15 - 30 minutes</td>\n",
       "      <td>214</td>\n",
       "      <td>34.516129</td>\n",
       "    </tr>\n",
       "    <tr>\n",
       "      <th>2</th>\n",
       "      <td>30 minutes - 1 hour</td>\n",
       "      <td>248</td>\n",
       "      <td>40.000000</td>\n",
       "    </tr>\n",
       "    <tr>\n",
       "      <th>3</th>\n",
       "      <td>1 hour - 1.5 hours</td>\n",
       "      <td>31</td>\n",
       "      <td>5.000000</td>\n",
       "    </tr>\n",
       "    <tr>\n",
       "      <th>4</th>\n",
       "      <td>&gt;1.5 hours</td>\n",
       "      <td>5</td>\n",
       "      <td>0.806452</td>\n",
       "    </tr>\n",
       "  </tbody>\n",
       "</table>\n",
       "</div>"
      ],
      "text/plain": [
       "                  time  count    percent\n",
       "0          <15 minutes    122  19.677419\n",
       "1      15 - 30 minutes    214  34.516129\n",
       "2  30 minutes - 1 hour    248  40.000000\n",
       "3   1 hour - 1.5 hours     31   5.000000\n",
       "4           >1.5 hours      5   0.806452"
      ]
     },
     "execution_count": 8,
     "metadata": {},
     "output_type": "execute_result"
    }
   ],
   "source": [
    "df_delivery_time = pd.read_csv('data/delivery-time.csv')\n",
    "df_delivery_time.head()"
   ]
  },
  {
   "cell_type": "code",
   "execution_count": 9,
   "id": "7d6f1a86",
   "metadata": {},
   "outputs": [
    {
     "data": {
      "text/html": [
       "\n",
       "<div id=\"altair-viz-1cb0e33dd6f44d24a04ea2009eb5ffba\"></div>\n",
       "<script type=\"text/javascript\">\n",
       "  var VEGA_DEBUG = (typeof VEGA_DEBUG == \"undefined\") ? {} : VEGA_DEBUG;\n",
       "  (function(spec, embedOpt){\n",
       "    let outputDiv = document.currentScript.previousElementSibling;\n",
       "    if (outputDiv.id !== \"altair-viz-1cb0e33dd6f44d24a04ea2009eb5ffba\") {\n",
       "      outputDiv = document.getElementById(\"altair-viz-1cb0e33dd6f44d24a04ea2009eb5ffba\");\n",
       "    }\n",
       "    const paths = {\n",
       "      \"vega\": \"https://cdn.jsdelivr.net/npm//vega@5?noext\",\n",
       "      \"vega-lib\": \"https://cdn.jsdelivr.net/npm//vega-lib?noext\",\n",
       "      \"vega-lite\": \"https://cdn.jsdelivr.net/npm//vega-lite@4.17.0?noext\",\n",
       "      \"vega-embed\": \"https://cdn.jsdelivr.net/npm//vega-embed@6?noext\",\n",
       "    };\n",
       "\n",
       "    function maybeLoadScript(lib, version) {\n",
       "      var key = `${lib.replace(\"-\", \"\")}_version`;\n",
       "      return (VEGA_DEBUG[key] == version) ?\n",
       "        Promise.resolve(paths[lib]) :\n",
       "        new Promise(function(resolve, reject) {\n",
       "          var s = document.createElement('script');\n",
       "          document.getElementsByTagName(\"head\")[0].appendChild(s);\n",
       "          s.async = true;\n",
       "          s.onload = () => {\n",
       "            VEGA_DEBUG[key] = version;\n",
       "            return resolve(paths[lib]);\n",
       "          };\n",
       "          s.onerror = () => reject(`Error loading script: ${paths[lib]}`);\n",
       "          s.src = paths[lib];\n",
       "        });\n",
       "    }\n",
       "\n",
       "    function showError(err) {\n",
       "      outputDiv.innerHTML = `<div class=\"error\" style=\"color:red;\">${err}</div>`;\n",
       "      throw err;\n",
       "    }\n",
       "\n",
       "    function displayChart(vegaEmbed) {\n",
       "      vegaEmbed(outputDiv, spec, embedOpt)\n",
       "        .catch(err => showError(`Javascript Error: ${err.message}<br>This usually means there's a typo in your chart specification. See the javascript console for the full traceback.`));\n",
       "    }\n",
       "\n",
       "    if(typeof define === \"function\" && define.amd) {\n",
       "      requirejs.config({paths});\n",
       "      require([\"vega-embed\"], displayChart, err => showError(`Error loading script: ${err.message}`));\n",
       "    } else {\n",
       "      maybeLoadScript(\"vega\", \"5\")\n",
       "        .then(() => maybeLoadScript(\"vega-lite\", \"4.17.0\"))\n",
       "        .then(() => maybeLoadScript(\"vega-embed\", \"6\"))\n",
       "        .catch(showError)\n",
       "        .then(() => displayChart(vegaEmbed));\n",
       "    }\n",
       "  })({\"config\": {\"title\": {\"fontSize\": 20, \"font\": \"Lato\", \"anchor\": \"start\", \"fontColor\": \"#000000\"}, \"axisX\": {\"domain\": true, \"domainColor\": \"#000000\", \"domainWidth\": 1, \"grid\": false, \"labelFont\": \"Lato\", \"labelFontSize\": 16, \"labelAngle\": 0, \"tickColor\": \"#000000\", \"tickSize\": 5, \"titleFont\": \"Lato\", \"titleFontSize\": 16, \"titlePadding\": 10, \"title\": \"X Axis Title (units)\"}, \"axisY\": {\"domain\": false, \"grid\": false, \"gridColor\": \"#DEDDDD\", \"gridWidth\": 1, \"labelFont\": \"Lato\", \"labelFontSize\": 16, \"labelAngle\": 0, \"ticks\": false, \"titleFont\": \"Lato\", \"titleFontSize\": 16, \"titlePadding\": 10, \"title\": \"Y Axis Title (units)\", \"titleAngle\": 0, \"titleY\": -10, \"titleX\": 18}, \"range\": {\"category\": [\"#2D7E8B\", \"#D37D1B\"]}, \"view\": {\"strokeOpacity\": 0}}, \"layer\": [{\"mark\": \"bar\", \"encoding\": {\"color\": {\"value\": \"#D37D1B\"}, \"x\": {\"field\": \"count\", \"type\": \"quantitative\"}, \"y\": {\"axis\": {\"labelLimit\": 200, \"offset\": 10}, \"field\": \"time\", \"sort\": null, \"type\": \"ordinal\"}}}, {\"mark\": {\"type\": \"text\", \"align\": \"left\", \"baseline\": \"middle\", \"dx\": 5, \"font\": \"Lato\", \"size\": 16}, \"encoding\": {\"color\": {\"value\": \"black\"}, \"text\": {\"field\": \"count\", \"type\": \"quantitative\"}, \"x\": {\"field\": \"count\", \"type\": \"quantitative\"}, \"y\": {\"axis\": {\"labelLimit\": 200, \"offset\": 10}, \"field\": \"time\", \"sort\": null, \"type\": \"ordinal\"}}}], \"data\": {\"name\": \"data-3091ba3f987859a2d22d855dcebb964e\"}, \"height\": 150, \"title\": \"Typical time for workers to deliver orders\", \"width\": 600, \"$schema\": \"https://vega.github.io/schema/vega-lite/v4.17.0.json\", \"datasets\": {\"data-3091ba3f987859a2d22d855dcebb964e\": [{\"time\": \"<15 minutes\", \"count\": 122, \"percent\": 19.67741935}, {\"time\": \"15 - 30 minutes\", \"count\": 214, \"percent\": 34.51612903}, {\"time\": \"30 minutes - 1 hour\", \"count\": 248, \"percent\": 40.0}, {\"time\": \"1 hour - 1.5 hours\", \"count\": 31, \"percent\": 5.0}, {\"time\": \">1.5 hours\", \"count\": 5, \"percent\": 0.8064516129}]}}, {\"mode\": \"vega-lite\"});\n",
       "</script>"
      ],
      "text/plain": [
       "alt.LayerChart(...)"
      ]
     },
     "execution_count": 9,
     "metadata": {},
     "output_type": "execute_result"
    }
   ],
   "source": [
    "bars = alt.Chart(df_delivery_time).mark_bar().encode(\n",
    "    x='count:Q',\n",
    "    y=alt.Y(\"time:O\", sort=None, axis=alt.Axis(labelLimit=200, offset=10)),\n",
    "    color=alt.value('#D37D1B')\n",
    ")\n",
    "\n",
    "text = bars.mark_text(\n",
    "    align='left',\n",
    "    baseline='middle',\n",
    "    dx=5,\n",
    "    size=16,\n",
    "    font='Lato',\n",
    ").encode(\n",
    "    text='count:Q',\n",
    "    color=alt.value('black')\n",
    ")\n",
    "\n",
    "(bars + text).properties(height=150, width=600, title='Typical time for workers to deliver orders').configure_view(strokeOpacity=0)"
   ]
  },
  {
   "cell_type": "markdown",
   "id": "d8bea3af",
   "metadata": {},
   "source": [
    "## Bike thefts\n",
    "### Percent with bike stolen"
   ]
  },
  {
   "cell_type": "code",
   "execution_count": 10,
   "id": "265f2b82",
   "metadata": {},
   "outputs": [
    {
     "data": {
      "text/html": [
       "<div>\n",
       "<style scoped>\n",
       "    .dataframe tbody tr th:only-of-type {\n",
       "        vertical-align: middle;\n",
       "    }\n",
       "\n",
       "    .dataframe tbody tr th {\n",
       "        vertical-align: top;\n",
       "    }\n",
       "\n",
       "    .dataframe thead th {\n",
       "        text-align: right;\n",
       "    }\n",
       "</style>\n",
       "<table border=\"1\" class=\"dataframe\">\n",
       "  <thead>\n",
       "    <tr style=\"text-align: right;\">\n",
       "      <th></th>\n",
       "      <th>stolen</th>\n",
       "      <th>count</th>\n",
       "      <th>percent</th>\n",
       "      <th>type</th>\n",
       "    </tr>\n",
       "  </thead>\n",
       "  <tbody>\n",
       "    <tr>\n",
       "      <th>0</th>\n",
       "      <td>Yes</td>\n",
       "      <td>278</td>\n",
       "      <td>53.980583</td>\n",
       "      <td>stolen</td>\n",
       "    </tr>\n",
       "    <tr>\n",
       "      <th>1</th>\n",
       "      <td>No</td>\n",
       "      <td>237</td>\n",
       "      <td>46.019417</td>\n",
       "      <td>stolen</td>\n",
       "    </tr>\n",
       "  </tbody>\n",
       "</table>\n",
       "</div>"
      ],
      "text/plain": [
       "  stolen  count    percent    type\n",
       "0    Yes    278  53.980583  stolen\n",
       "1     No    237  46.019417  stolen"
      ]
     },
     "execution_count": 10,
     "metadata": {},
     "output_type": "execute_result"
    }
   ],
   "source": [
    "df_bike_stolen = pd.read_csv('data/bike-stolen.csv')\n",
    "df_bike_stolen['type'] = 'stolen'\n",
    "df_bike_stolen.head()"
   ]
  },
  {
   "cell_type": "code",
   "execution_count": 11,
   "id": "476f3aec",
   "metadata": {},
   "outputs": [
    {
     "data": {
      "text/html": [
       "\n",
       "<div id=\"altair-viz-752a5d72ae5f4091a542b2b4be32985f\"></div>\n",
       "<script type=\"text/javascript\">\n",
       "  var VEGA_DEBUG = (typeof VEGA_DEBUG == \"undefined\") ? {} : VEGA_DEBUG;\n",
       "  (function(spec, embedOpt){\n",
       "    let outputDiv = document.currentScript.previousElementSibling;\n",
       "    if (outputDiv.id !== \"altair-viz-752a5d72ae5f4091a542b2b4be32985f\") {\n",
       "      outputDiv = document.getElementById(\"altair-viz-752a5d72ae5f4091a542b2b4be32985f\");\n",
       "    }\n",
       "    const paths = {\n",
       "      \"vega\": \"https://cdn.jsdelivr.net/npm//vega@5?noext\",\n",
       "      \"vega-lib\": \"https://cdn.jsdelivr.net/npm//vega-lib?noext\",\n",
       "      \"vega-lite\": \"https://cdn.jsdelivr.net/npm//vega-lite@4.17.0?noext\",\n",
       "      \"vega-embed\": \"https://cdn.jsdelivr.net/npm//vega-embed@6?noext\",\n",
       "    };\n",
       "\n",
       "    function maybeLoadScript(lib, version) {\n",
       "      var key = `${lib.replace(\"-\", \"\")}_version`;\n",
       "      return (VEGA_DEBUG[key] == version) ?\n",
       "        Promise.resolve(paths[lib]) :\n",
       "        new Promise(function(resolve, reject) {\n",
       "          var s = document.createElement('script');\n",
       "          document.getElementsByTagName(\"head\")[0].appendChild(s);\n",
       "          s.async = true;\n",
       "          s.onload = () => {\n",
       "            VEGA_DEBUG[key] = version;\n",
       "            return resolve(paths[lib]);\n",
       "          };\n",
       "          s.onerror = () => reject(`Error loading script: ${paths[lib]}`);\n",
       "          s.src = paths[lib];\n",
       "        });\n",
       "    }\n",
       "\n",
       "    function showError(err) {\n",
       "      outputDiv.innerHTML = `<div class=\"error\" style=\"color:red;\">${err}</div>`;\n",
       "      throw err;\n",
       "    }\n",
       "\n",
       "    function displayChart(vegaEmbed) {\n",
       "      vegaEmbed(outputDiv, spec, embedOpt)\n",
       "        .catch(err => showError(`Javascript Error: ${err.message}<br>This usually means there's a typo in your chart specification. See the javascript console for the full traceback.`));\n",
       "    }\n",
       "\n",
       "    if(typeof define === \"function\" && define.amd) {\n",
       "      requirejs.config({paths});\n",
       "      require([\"vega-embed\"], displayChart, err => showError(`Error loading script: ${err.message}`));\n",
       "    } else {\n",
       "      maybeLoadScript(\"vega\", \"5\")\n",
       "        .then(() => maybeLoadScript(\"vega-lite\", \"4.17.0\"))\n",
       "        .then(() => maybeLoadScript(\"vega-embed\", \"6\"))\n",
       "        .catch(showError)\n",
       "        .then(() => displayChart(vegaEmbed));\n",
       "    }\n",
       "  })({\"config\": {\"title\": {\"fontSize\": 20, \"font\": \"Lato\", \"anchor\": \"start\", \"fontColor\": \"#000000\"}, \"axisX\": {\"domain\": true, \"domainColor\": \"#000000\", \"domainWidth\": 1, \"grid\": false, \"labelFont\": \"Lato\", \"labelFontSize\": 16, \"labelAngle\": 0, \"tickColor\": \"#000000\", \"tickSize\": 5, \"titleFont\": \"Lato\", \"titleFontSize\": 16, \"titlePadding\": 10, \"title\": \"X Axis Title (units)\"}, \"axisY\": {\"domain\": false, \"grid\": false, \"gridColor\": \"#DEDDDD\", \"gridWidth\": 1, \"labelFont\": \"Lato\", \"labelFontSize\": 16, \"labelAngle\": 0, \"ticks\": false, \"titleFont\": \"Lato\", \"titleFontSize\": 16, \"titlePadding\": 10, \"title\": \"Y Axis Title (units)\", \"titleAngle\": 0, \"titleY\": -10, \"titleX\": 18}, \"range\": {\"category\": [\"#2D7E8B\", \"#D37D1B\"]}, \"view\": {\"strokeOpacity\": 0}}, \"layer\": [{\"mark\": \"bar\", \"encoding\": {\"color\": {\"field\": \"stolen\", \"legend\": null, \"type\": \"nominal\"}, \"x\": {\"aggregate\": \"sum\", \"axis\": null, \"field\": \"percent\", \"stack\": \"zero\", \"type\": \"quantitative\"}, \"y\": {\"axis\": null, \"field\": \"type\", \"type\": \"nominal\"}}}, {\"mark\": {\"type\": \"text\", \"dx\": -28, \"dy\": 2, \"font\": \"Lato\", \"size\": 16}, \"encoding\": {\"color\": {\"value\": \"black\"}, \"detail\": {\"field\": \"stolen\", \"type\": \"nominal\"}, \"text\": {\"aggregate\": \"sum\", \"field\": \"percent\", \"format\": \".2f\", \"type\": \"quantitative\"}, \"x\": {\"aggregate\": \"sum\", \"field\": \"percent\", \"stack\": \"zero\", \"type\": \"quantitative\"}, \"y\": {\"field\": \"type\", \"type\": \"nominal\"}}}], \"data\": {\"name\": \"data-2de7972d25e91fe4b49d54b599348fbd\"}, \"height\": 30, \"title\": \"Percent who had their bike stolen\", \"width\": 600, \"$schema\": \"https://vega.github.io/schema/vega-lite/v4.17.0.json\", \"datasets\": {\"data-2de7972d25e91fe4b49d54b599348fbd\": [{\"stolen\": \"Yes\", \"count\": 278, \"percent\": 53.98058252, \"type\": \"stolen\"}, {\"stolen\": \"No\", \"count\": 237, \"percent\": 46.01941748, \"type\": \"stolen\"}]}}, {\"mode\": \"vega-lite\"});\n",
       "</script>"
      ],
      "text/plain": [
       "alt.LayerChart(...)"
      ]
     },
     "execution_count": 11,
     "metadata": {},
     "output_type": "execute_result"
    }
   ],
   "source": [
    "bars = alt.Chart(df_bike_stolen).mark_bar().encode(\n",
    "    x=alt.X('sum(percent):Q', stack='zero', axis=None),\n",
    "    y=alt.Y('type:N', axis=None),\n",
    "    color=alt.Color('stolen', legend=None)\n",
    ")\n",
    "\n",
    "text = alt.Chart(df_bike_stolen).mark_text(\n",
    "    dx=-28, \n",
    "    dy=2, \n",
    "    size=16,\n",
    "    font='Lato',\n",
    ").encode(\n",
    "    x=alt.X('sum(percent):Q', stack='zero'),\n",
    "    y=alt.Y('type:N'),\n",
    "    detail='stolen:N',\n",
    "    text=alt.Text('sum(percent):Q', format='.2f'),\n",
    "    color=alt.value('black')\n",
    ")\n",
    "\n",
    "(bars + text).properties(title='Percent who had their bike stolen', height=30, width=600).configure_view(strokeOpacity=0)"
   ]
  },
  {
   "cell_type": "markdown",
   "id": "89c462e5",
   "metadata": {},
   "source": [
    "### CHARTS THAT DIDN'T END UP BEING USED - Percent with bike stolen"
   ]
  },
  {
   "cell_type": "code",
   "execution_count": 12,
   "id": "5359f120",
   "metadata": {},
   "outputs": [],
   "source": [
    "# df_bike_stolen_attack = pd.read_csv('data/bike-stolen-attack.csv')\n",
    "# df_bike_stolen_attack['type'] = 'attack'\n",
    "# df_bike_stolen_attack.head()"
   ]
  },
  {
   "cell_type": "code",
   "execution_count": 13,
   "id": "ca2abf6a",
   "metadata": {},
   "outputs": [],
   "source": [
    "# bars = alt.Chart(df_bike_stolen_attack).mark_bar().encode(\n",
    "#     x=alt.X('sum(percent):Q', stack='zero'),\n",
    "#     y=alt.Y('type:N'),\n",
    "#     color=alt.Color('attack', legend=None)\n",
    "# )\n",
    "\n",
    "# text = alt.Chart(df_bike_stolen_attack).mark_text(dx=-15, dy=2, color='black').encode(\n",
    "#     x=alt.X('sum(percent):Q', stack='zero'),\n",
    "#     y=alt.Y('type:N'),\n",
    "#     detail='attack:N',\n",
    "#     text=alt.Text('sum(percent):Q', format='.1f')\n",
    "# )\n",
    "\n",
    "# (bars + text).properties(title='Percent among those whose bikes were stolen who were assaulted or attacked', height=50)"
   ]
  },
  {
   "cell_type": "markdown",
   "id": "eedaa4ea",
   "metadata": {},
   "source": [
    "### Percent who reported to police"
   ]
  },
  {
   "cell_type": "code",
   "execution_count": 14,
   "id": "18b5d584",
   "metadata": {},
   "outputs": [],
   "source": [
    "# df_police_response = pd.read_csv('data/police-response.csv')\n",
    "# df_police_response['type'] = 'response'\n",
    "# df_police_response.head()"
   ]
  },
  {
   "cell_type": "code",
   "execution_count": 15,
   "id": "cf7217df",
   "metadata": {},
   "outputs": [],
   "source": [
    "# bars = alt.Chart(df_police_response).mark_bar().encode(\n",
    "#     x=alt.X('sum(percent):Q', stack='zero'),\n",
    "#     y=alt.Y('type:N'),\n",
    "#     color=alt.Color('report_incident', legend=None)\n",
    "# )\n",
    "\n",
    "# text = alt.Chart(df_police_response).mark_text(dx=-15, dy=2, color='black').encode(\n",
    "#     x=alt.X('sum(percent):Q', stack='zero'),\n",
    "#     y=alt.Y('type:N'),\n",
    "#     detail='report_incident:N',\n",
    "#     text=alt.Text('sum(percent):Q', format='.1f')\n",
    "# )\n",
    "\n",
    "# (bars + text).properties(title='Percent who ', height=50)"
   ]
  }
 ],
 "metadata": {
  "kernelspec": {
   "display_name": "Python 3 (ipykernel)",
   "language": "python",
   "name": "python3"
  },
  "language_info": {
   "codemirror_mode": {
    "name": "ipython",
    "version": 3
   },
   "file_extension": ".py",
   "mimetype": "text/x-python",
   "name": "python",
   "nbconvert_exporter": "python",
   "pygments_lexer": "ipython3",
   "version": "3.9.7"
  }
 },
 "nbformat": 4,
 "nbformat_minor": 5
}
